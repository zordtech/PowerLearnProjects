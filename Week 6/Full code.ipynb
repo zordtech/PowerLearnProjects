# =====================
# Step 1: Read & Load
# ======================

import pandas as pd
import matplotlib.pyplot as plt

# Read and load the data
df = pd.read_csv("weather.csv")

# Show first few rows
display(df.head())

# ======================
# Step 2: Explore Dataset
# ======================

print("Dataset Info:")
df.info()

print("\nMissing values per column:")
print(df.isnull().sum())

# Handle missing values:
for col in df.columns:
    if df[col].dtype == "object":
        df[col] = df[col].fillna(df[col].mode()[0])
    else:
        df[col] = df[col].fillna(df[col].mean())

print("\nMissing values after cleaning:")
print(df.isnull().sum())

# ======================
# Step 3: Basic Statistics
# ======================

print("\nBasic Statistics for Basel Weather:")
display(df[[
    'BASEL_temp_mean', 'BASEL_temp_min', 'BASEL_temp_max',
    'BASEL_humidity', 'BASEL_pressure', 'BASEL_precipitation'
]].describe())

# Group by MONTH and get average BASEL temperature
avg_temp_by_month = df.groupby("MONTH")["BASEL_temp_mean"].mean()
print("\nAverage Basel Temperature by Month:")
display(avg_temp_by_month)

# ======================
# Step 4: Visualizations
# ======================

# Convert DATE column to datetime
df["DATE"] = pd.to_datetime(df["DATE"])

# 1. Line Chart: Temperature over time
df_sorted = df.sort_values("DATE")
plt.figure(figsize=(10,5))
plt.plot(df_sorted["DATE"], df_sorted["BASEL_temp_mean"], label="Mean Temp (°C)", color='orange')
plt.title("Basel Mean Temperature Over Time")
plt.xlabel("Date")
plt.ylabel("Temperature (°C)")
plt.grid(True)
plt.legend()
plt.show()

# 2. Bar Chart: Average Temperature per Month
avg_temp_by_month.plot(kind='bar', figsize=(8,5), color='skyblue', edgecolor='black')
plt.title("Average Basel Temperature by Month")
plt.xlabel("Month")
plt.ylabel("Temperature (°C)")
plt.show()

# 3. Histogram: Temperature distribution
plt.figure(figsize=(8,5))
plt.hist(df["BASEL_temp_mean"], bins=20, color='green', edgecolor='black')
plt.title("Distribution of Basel Mean Temperature")
plt.xlabel("Temperature (°C)")
plt.ylabel("Frequency")
plt.show()

# 4. Scatter Plot: Temperature vs Humidity
plt.figure(figsize=(8,5))
plt.scatter(df["BASEL_temp_mean"], df["BASEL_humidity"], alpha=0.5, color='purple')
plt.title("Basel Temperature vs Humidity")
plt.xlabel("Temperature (°C)")
plt.ylabel("Humidity (%)")
plt.grid(True)
plt.show()



